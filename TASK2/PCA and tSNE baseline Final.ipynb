{
 "cells": [
  {
   "cell_type": "code",
   "execution_count": null,
   "metadata": {},
   "outputs": [],
   "source": [
    "import os\n",
    "from os import listdir, system\n",
    "import numpy as np\n",
    "import pandas as pd\n",
    "import seaborn as sns\n",
    "from matplotlib import pyplot as plt\n",
    "%matplotlib inline"
   ]
  },
  {
   "cell_type": "code",
   "execution_count": null,
   "metadata": {},
   "outputs": [],
   "source": [
    "os.getcwd()"
   ]
  },
  {
   "cell_type": "code",
   "execution_count": null,
   "metadata": {},
   "outputs": [],
   "source": [
    "os.chdir('C:\\\\Users\\\\basuc\\\\5005p')"
   ]
  },
  {
   "cell_type": "code",
   "execution_count": null,
   "metadata": {},
   "outputs": [],
   "source": [
    "#data = pd.read_csv('multivariate.csv')\n",
    "data = pd.read_csv('multivariate1.csv')\n",
    "median_age = pd.read_csv('median_age.csv')\n",
    "auto_cat=pd.read_csv('total_case_class.csv')"
   ]
  },
  {
   "cell_type": "code",
   "execution_count": null,
   "metadata": {},
   "outputs": [],
   "source": [
    "data.head()"
   ]
  },
  {
   "cell_type": "code",
   "execution_count": null,
   "metadata": {},
   "outputs": [],
   "source": [
    "data = data.merge(median_age, how = 'left', on='statecode')\n",
    "data = data.drop(columns = ['total_cases_capita','total_cases_cat'])\n",
    "data = data.merge(auto_cat, how = 'left', on='statecode')\n",
    "data = data.rename({'cat':'total_cases_cat'}, axis=1)\n",
    "data=data.sort_values(by='total_cases_capita', ascending=True)\n",
    "data = data.drop(columns = ['pdf'])\n",
    "data = data.drop(columns = ['Unnamed: 0'])\n",
    "multivariate = data\n",
    "data=data.drop(columns=['state'])"
   ]
  },
  {
   "cell_type": "code",
   "execution_count": null,
   "metadata": {},
   "outputs": [],
   "source": [
    "data"
   ]
  },
  {
   "cell_type": "code",
   "execution_count": null,
   "metadata": {},
   "outputs": [],
   "source": [
    "statecode = data['statecode']\n",
    "data = data.drop('statecode', axis=1)\n",
    "# april_covid_cases = data['april_covid_cases']\n",
    "# data = data.drop('april_covid_cases', axis=1)\n",
    "total_cases_capita = data['total_cases_capita']\n",
    "data = data.drop('total_cases_capita', axis=1)\n",
    "# lit_rate = data['lit_rate']\n",
    "# data = data.drop('lit_rate', axis=1)\n",
    "# health_index = data['health_index']\n",
    "# data = data.drop('health_index', axis=1)\n",
    "# gdp_capita = data['gdp_capita']\n",
    "# data = data.drop('gdp_capita', axis=1)\n",
    "# HDI = data['2018HDI']\n",
    "# data = data.drop('2018HDI', axis=1)"
   ]
  },
  {
   "cell_type": "code",
   "execution_count": null,
   "metadata": {},
   "outputs": [],
   "source": [
    "#data['total_cases_cat'] = data['total_cases_cat'].factorize()[0] + 1"
   ]
  },
  {
   "cell_type": "code",
   "execution_count": null,
   "metadata": {},
   "outputs": [],
   "source": [
    "target = data['total_cases_cat']\n",
    "data = data.drop('total_cases_cat', axis=1)"
   ]
  },
  {
   "cell_type": "code",
   "execution_count": null,
   "metadata": {},
   "outputs": [],
   "source": [
    "data"
   ]
  },
  {
   "cell_type": "code",
   "execution_count": null,
   "metadata": {},
   "outputs": [],
   "source": [
    "from sklearn.decomposition import PCA # Principal Component Analysis module\n",
    "from sklearn.manifold import TSNE # TSNE module"
   ]
  },
  {
   "cell_type": "code",
   "execution_count": null,
   "metadata": {},
   "outputs": [],
   "source": [
    "from sklearn.preprocessing import MinMaxScaler\n",
    "from sklearn.preprocessing import StandardScaler\n",
    "# minmaxscaler = MinMaxScaler()\n",
    "# data_rescaled = minmaxscaler.fit_transform(data)\n",
    "stdscaler = StandardScaler()\n",
    "data_rescaled = stdscaler.fit_transform(data)"
   ]
  },
  {
   "cell_type": "code",
   "execution_count": null,
   "metadata": {},
   "outputs": [],
   "source": [
    "data_rescaled"
   ]
  },
  {
   "cell_type": "code",
   "execution_count": null,
   "metadata": {},
   "outputs": [],
   "source": [
    "\n",
    "# pca = PCA(n_components = 2)\n",
    "# pca.fit(data_rescaled)\n",
    "# reduced = pca.transform(data_rescaled)"
   ]
  },
  {
   "cell_type": "code",
   "execution_count": null,
   "metadata": {},
   "outputs": [],
   "source": [
    "#95% of variance\n",
    "from sklearn.decomposition import PCA\n",
    "pca = PCA().fit(data_rescaled)\n",
    "\n",
    "%matplotlib inline\n",
    "import matplotlib.pyplot as plt\n",
    "plt.rcParams[\"figure.figsize\"] = (12,6)\n",
    "\n",
    "fig, ax = plt.subplots()\n",
    "xi = np.arange(1, 8, step=1)\n",
    "y = np.cumsum(pca.explained_variance_ratio_)\n",
    "\n",
    "plt.ylim(0.0,1.1)\n",
    "plt.plot(xi, y, marker='o', linestyle='--', color='b')\n",
    "\n",
    "plt.xlabel('Number of Components')\n",
    "plt.xticks(np.arange(0, 8, step=1)) #change from 0-based array index to 1-based human-readable label\n",
    "plt.ylabel('Cumulative variance (%)')\n",
    "plt.title('The number of components needed to explain variance')\n",
    "\n",
    "plt.axhline(y=0.85, color='r', linestyle='-')\n",
    "plt.text(0.5, 0.75, '85% cut-off threshold', color = 'red', fontsize=16)\n",
    "\n",
    "ax.grid(axis='x')\n",
    "plt.show()"
   ]
  },
  {
   "cell_type": "code",
   "execution_count": null,
   "metadata": {},
   "outputs": [],
   "source": [
    "# Invoke the PCA method on the standardised data\n",
    "pca = PCA(n_components=3)\n",
    "pca_3d_std = pca.fit_transform(data_rescaled)\n",
    "pca.explained_variance_ratio_"
   ]
  },
  {
   "cell_type": "code",
   "execution_count": null,
   "metadata": {},
   "outputs": [],
   "source": [
    "print(abs( pca.components_ ))"
   ]
  },
  {
   "cell_type": "code",
   "execution_count": null,
   "metadata": {},
   "outputs": [],
   "source": [
    "# Invoke the TSNE method\n",
    "tsne = TSNE(n_components=3, verbose=5, perplexity=3, method= 'exact', n_iter=30000, init='pca')\n",
    "tsne_results_std = tsne.fit_transform(data_rescaled)"
   ]
  },
  {
   "cell_type": "code",
   "execution_count": null,
   "metadata": {},
   "outputs": [],
   "source": [
    "tsne_results_std"
   ]
  },
  {
   "cell_type": "code",
   "execution_count": null,
   "metadata": {},
   "outputs": [],
   "source": [
    "# import numpy as np\n",
    "# import matplotlib.pyplot as plt\n",
    "\n",
    "# np.random.seed(20)\n",
    "\n",
    "# X=np.random.randint(10, size=(5))\n",
    "# Y=np.random.randint(10, size=(5))\n",
    "\n",
    "# annotations=statecode\n",
    "\n",
    "# plt.figure(figsize=(8,6))\n",
    "# plt.scatter(X,Y,s=100,color=\"red\")\n",
    "# plt.xlabel(\"X\")\n",
    "# plt.ylabel(\"Y\")\n",
    "# plt.title(\"Scatter Plot with annotations\",fontsize=15)\n",
    "# for i, label in enumerate(annotations):\n",
    "#     plt.text(X[i], Y[i],label)\n",
    "\n",
    "# plt.show()"
   ]
  },
  {
   "cell_type": "code",
   "execution_count": null,
   "metadata": {},
   "outputs": [],
   "source": [
    "pca1=pca_3d_std[:,0]\n",
    "pca2=pca_3d_std[:,1]\n",
    "pca3=pca_3d_std[:,2]\n",
    "tsne1 = tsne_results_std[:,0]\n",
    "tsne2 = tsne_results_std[:,1]\n",
    "tsne3 = tsne_results_std[:,2]"
   ]
  },
  {
   "cell_type": "code",
   "execution_count": null,
   "metadata": {},
   "outputs": [],
   "source": [
    "pca1_df = pd.DataFrame(pca1, columns = ['pca1'])\n",
    "pca2_df = pd.DataFrame(pca2, columns = ['pca2'])\n",
    "pca3_df = pd.DataFrame(pca3, columns = ['pca3'])\n",
    "tsne1_df = pd.DataFrame(tsne1, columns = ['tsne1'])\n",
    "tsne2_df = pd.DataFrame(tsne2, columns = ['tsne2'])\n",
    "tsne3_df = pd.DataFrame(tsne3, columns = ['tsne3'])"
   ]
  },
  {
   "cell_type": "code",
   "execution_count": null,
   "metadata": {},
   "outputs": [],
   "source": [
    "result = pd.concat([multivariate, pca1_df], axis=1, join=\"inner\")\n",
    "result = pd.concat([result, pca2_df], axis=1, join=\"inner\")\n",
    "result = pd.concat([result, pca3_df], axis=1, join=\"inner\")\n",
    "result = pd.concat([result, tsne1_df], axis=1, join=\"inner\")\n",
    "result = pd.concat([result, tsne2_df], axis=1, join=\"inner\")\n",
    "result = pd.concat([result, tsne3_df], axis=1, join=\"inner\")"
   ]
  },
  {
   "cell_type": "code",
   "execution_count": null,
   "metadata": {},
   "outputs": [],
   "source": [
    "result"
   ]
  },
  {
   "cell_type": "code",
   "execution_count": null,
   "metadata": {
    "scrolled": true
   },
   "outputs": [],
   "source": [
    "# annotations = statecode\n",
    "# plt.figure(figsize=(16, 11))\n",
    "# plt.subplot(121)\n",
    "# plt.scatter(  #             pca_3d_std[:,0],\n",
    "#               #             pca_3d_std[:,1],\n",
    "#               #             pca_3d_std[:,0],\n",
    "#               #             c = target,\n",
    "#     pca1,\n",
    "#     pca2,\n",
    "#     c=target,\n",
    "#     cmap='Set1',\n",
    "#     edgecolor='None',\n",
    "#     s=300,\n",
    "#     alpha=1,\n",
    "#     )\n",
    "\n",
    "# # plt.clim(-3,3)\n",
    "\n",
    "# plt.colorbar()\n",
    "# plt.title('PCA Scatter Plot')\n",
    "# for (i, label) in enumerate(annotations):\n",
    "#     plt.text(pca1[i], pca2[i], label)\n",
    "# plt.subplot(122)\n",
    "# plt.scatter(  #             tsne_results_std[:,0],\n",
    "#               #             tsne_results_std[:,1],\n",
    "#               #             target,\n",
    "#               #             tsne_results_std[:,0],\n",
    "#     tsne1,\n",
    "#     tsne2,\n",
    "#     c=target,\n",
    "#     cmap='Set1',\n",
    "#     edgecolor='None',\n",
    "#     s=300,\n",
    "#     alpha=1,\n",
    "#     )\n",
    "\n",
    "# # plt.clim(-3,3)\n",
    "\n",
    "# plt.colorbar()\n",
    "# plt.title('TSNE Scatter Plot')\n",
    "# for (i, label) in enumerate(annotations):\n",
    "#     plt.text(tsne1[i], tsne2[i], label)\n",
    "# plt.show()"
   ]
  },
  {
   "cell_type": "code",
   "execution_count": null,
   "metadata": {},
   "outputs": [],
   "source": [
    "from plotly.subplots import make_subplots\n",
    "import plotly.express as px\n",
    "import plotly.graph_objects as go"
   ]
  },
  {
   "cell_type": "code",
   "execution_count": null,
   "metadata": {},
   "outputs": [],
   "source": [
    "import plotly.express as px\n",
    "fig = px.scatter_3d(result, x=\"pca1\", y=\"pca2\", z='pca3', color=\"total_cases_cat\", \n",
    "                    color_discrete_map={\n",
    "                \"Low\": \"#fecc5c\",\n",
    "                \"Mid\": \"#fd8d3c\",\n",
    "                \"High\": \"#e31a1c\"},\n",
    "              size='total_cases_capita', hover_data=['state'],\n",
    "                   labels={\n",
    "                     \"pca1\": \"PCA 1\",\n",
    "                     \"pca2\": \"PCA 2\",\n",
    "                     \"pca3\": \"PCA 3\",\n",
    "                     \"total_cases_cat\": \"Infection Category\"  \n",
    "                 },\n",
    "                   title = \"PCA 3D\")\n",
    "fig.update_layout(\n",
    "    font_family=\"Times New Roman\",\n",
    "    font_color=\"black\",\n",
    "    title_font_family=\"Times New Roman\",\n",
    "    title_font_color=\"black\",\n",
    "\n",
    ")\n",
    "fig.show()\n",
    "fig.write_html(r\"C:\\Users\\basuc\\5005p\\figs\\PCA3d.html\")"
   ]
  },
  {
   "cell_type": "code",
   "execution_count": null,
   "metadata": {},
   "outputs": [],
   "source": [
    "import plotly.express as px\n",
    "fig = px.scatter_3d(result, x=\"tsne1\", y=\"tsne2\", z='tsne3', color=\"total_cases_cat\", \n",
    "                    color_discrete_map={\n",
    "                \"Low\": \"#fecc5c\",\n",
    "                \"Mid\": \"#fd8d3c\",\n",
    "                \"High\": \"#e31a1c\"},\n",
    "              size='total_cases_capita', hover_data=['state'],\n",
    "                   labels={\n",
    "                     \"tsne1\": \"t-SNE 1\",\n",
    "                     \"tsne2\": \"t-SNE 2\",\n",
    "                     \"tsne3\": \"t-SNE 3\",\n",
    "                     \"total_cases_cat\": \"Infection Category\"  \n",
    "                 },\n",
    "                   title = \"t-SNE 3D\")\n",
    "fig.update_layout(\n",
    "    font_family=\"Times New Roman\",\n",
    "    font_color=\"black\",\n",
    "    title_font_family=\"Times New Roman\",\n",
    "    title_font_color=\"black\",\n",
    "\n",
    ")\n",
    "fig.show()\n",
    "fig.write_html(r\"C:\\Users\\basuc\\5005p\\figs\\TSNE3d.html\")"
   ]
  },
  {
   "cell_type": "code",
   "execution_count": null,
   "metadata": {},
   "outputs": [],
   "source": [
    "import plotly.express as px\n",
    "fig = px.scatter(result, x=\"pca1\", y=\"pca2\",  color=\"total_cases_cat\", \n",
    "                 color_discrete_map={\n",
    "                \"Low\": \"#fecc5c\",\n",
    "                \"Mid\": \"#fd8d3c\",\n",
    "                \"High\": \"#e31a1c\"},\n",
    "              size='total_cases_capita', hover_data=['state'],\n",
    "                   labels={\n",
    "                     \"pca1\": \"PCA 1\",\n",
    "                     \"pca2\": \"PCA 2\",\n",
    "                     \"total_cases_cat\": \"Infection Category\"  \n",
    "                 },\n",
    "                   title = \"PCA 3D\")\n",
    "fig.update_layout(\n",
    "    font_family=\"Times New Roman\",\n",
    "    font_color=\"black\",\n",
    "    title_font_family=\"Times New Roman\",\n",
    "    title_font_color=\"black\",\n",
    "\n",
    ")\n",
    "fig.show()\n",
    "fig.write_html(r\"C:\\Users\\basuc\\5005p\\figs\\PCA2d.html\")"
   ]
  },
  {
   "cell_type": "code",
   "execution_count": null,
   "metadata": {
    "scrolled": false
   },
   "outputs": [],
   "source": [
    "import plotly.express as px\n",
    "#df = px.data.iris()\n",
    "fig = px.scatter(multivariate, x=\"total_cases_capita\", y=\"urban_pop_share\", color=\"total_cases_cat\",\n",
    "                 color_discrete_map={\n",
    "                \"Low\": \"#fecc5c\",\n",
    "                \"Mid\": \"#fd8d3c\",\n",
    "                \"High\": \"#e31a1c\"},\n",
    "              size='total_cases_capita', hover_data=['state'], #facet_col='total_cases_cat',log_x=True,\n",
    "                   labels={\n",
    "                     \"total_cases_capita\": \"Infections Per Capita\",\n",
    "                     \"urban_pop_share\": \"Urban Population Share\",\n",
    "                     \"total_cases_cat\": \"Infection Category\"  \n",
    "                 },\n",
    "                   title = \"Urban Population % Vs Infection Per Capita\")\n",
    "fig.update_layout(\n",
    "    font_family=\"Times New Roman\",\n",
    "    font_color=\"black\",\n",
    "    title_font_family=\"Times New Roman\",\n",
    "    title_font_color=\"black\",\n",
    "\n",
    ")\n",
    "fig.show()\n",
    "fig.write_html(r\"C:\\Users\\basuc\\5005p\\figs\\Urban Population Scatter2.html\")\n"
   ]
  },
  {
   "cell_type": "code",
   "execution_count": null,
   "metadata": {},
   "outputs": [],
   "source": [
    "import plotly.express as px\n",
    "#df = px.data.iris()\n",
    "fig = px.scatter(multivariate, x=\"total_cases_capita\", y=\"urban_pop_share\", color=\"total_cases_cat\",\n",
    "                 color_discrete_map={\n",
    "                \"Low\": \"#fecc5c\",\n",
    "                \"Mid\": \"#fd8d3c\",\n",
    "                \"High\": \"#e31a1c\"},\n",
    "              size='total_cases_capita', hover_data=['state'], facet_col='total_cases_cat',log_x=True,\n",
    "                   labels={\n",
    "                     \"total_cases_capita\": \"Infections Per Capita\",\n",
    "                     \"urban_pop_share\": \"Urban Population Share\",\n",
    "                     \"total_cases_cat\": \"Infection Category\"  \n",
    "                 },\n",
    "                   title = \"Urban Population % Vs Infection Per Capita\")\n",
    "fig.update_layout(\n",
    "    font_family=\"Times New Roman\",\n",
    "    font_color=\"black\",\n",
    "    title_font_family=\"Times New Roman\",\n",
    "    title_font_color=\"black\",\n",
    "\n",
    ")\n",
    "fig.show()\n",
    "fig.write_html(r\"C:\\Users\\basuc\\5005p\\figs\\Urban Population Scatter1.html\")"
   ]
  },
  {
   "cell_type": "code",
   "execution_count": null,
   "metadata": {},
   "outputs": [],
   "source": [
    "import plotly.express as px\n",
    "fig = px.scatter(multivariate, x=\"total_cases_capita\", y=\"2018HDI\", color=\"total_cases_cat\",\n",
    "#                  color_discrete_map={\n",
    "#                 \"Low\": \"#fecc5c\",\n",
    "#                 \"Mid\": \"#fd8d3c\",\n",
    "#                 \"High\": \"#e31a1c\"},\n",
    "#                  size='total_cases_capita', hover_data=['statecode'], facet_col='total_cases_cat',log_x=True)\n",
    "# fig.show()\n",
    "color_discrete_map={\n",
    "                \"Low\": \"#fecc5c\",\n",
    "                \"Mid\": \"#fd8d3c\",\n",
    "                \"High\": \"#e31a1c\"},\n",
    "              size='total_cases_capita', hover_data=['state'], #facet_col='total_cases_cat',log_x=True,\n",
    "                   labels={\n",
    "                     \"total_cases_capita\": \"Infections Per Capita\",\n",
    "                     \"2018HDI\": \"Human Development Index\",\n",
    "                     \"total_cases_cat\": \"Infection Category\"  \n",
    "                 },\n",
    "                   title = \"Human Development Index Vs Infection Per Capita\")\n",
    "fig.update_layout(\n",
    "    font_family=\"Times New Roman\",\n",
    "    font_color=\"black\",\n",
    "    title_font_family=\"Times New Roman\",\n",
    "    title_font_color=\"black\",\n",
    "\n",
    ")\n",
    "fig.show()\n",
    "fig.write_html(r\"C:\\Users\\basuc\\5005p\\figs\\HDI scatter2.html\")"
   ]
  },
  {
   "cell_type": "code",
   "execution_count": null,
   "metadata": {},
   "outputs": [],
   "source": [
    "import plotly.express as px\n",
    "fig = px.scatter(multivariate, x=\"total_cases_capita\", y=\"2018HDI\", color=\"total_cases_cat\",\n",
    "#                  color_discrete_map={\n",
    "#                 \"Low\": \"#fecc5c\",\n",
    "#                 \"Mid\": \"#fd8d3c\",\n",
    "#                 \"High\": \"#e31a1c\"},\n",
    "#                  size='total_cases_capita', hover_data=['statecode'], facet_col='total_cases_cat',log_x=True)\n",
    "# fig.show()\n",
    "color_discrete_map={\n",
    "                \"Low\": \"#fecc5c\",\n",
    "                \"Mid\": \"#fd8d3c\",\n",
    "                \"High\": \"#e31a1c\"},\n",
    "              size='total_cases_capita', hover_data=['state'], facet_col='total_cases_cat',log_x=True,\n",
    "                   labels={\n",
    "                     \"total_cases_capita\": \"Infections Per Capita\",\n",
    "                     \"2018HDI\": \"Human Development Index\",\n",
    "                     \"total_cases_cat\": \"Infection Category\"  \n",
    "                 },\n",
    "                   title = \"Human Development Index Vs Infection Per Capita\")\n",
    "fig.update_layout(\n",
    "    font_family=\"Times New Roman\",\n",
    "    font_color=\"black\",\n",
    "    title_font_family=\"Times New Roman\",\n",
    "    title_font_color=\"black\",\n",
    "\n",
    ")\n",
    "fig.show()\n",
    "fig.write_html(r\"C:\\Users\\basuc\\5005p\\figs\\hdi scatter1.html\")"
   ]
  },
  {
   "cell_type": "code",
   "execution_count": null,
   "metadata": {},
   "outputs": [],
   "source": [
    "import plotly.express as px\n",
    "#df = px.data.iris()\n",
    "fig = px.scatter(multivariate, x=\"total_cases_capita\", y=\"median_age\", color=\"total_cases_cat\",\n",
    "color_discrete_map={\n",
    "                \"Low\": \"#fecc5c\",\n",
    "                \"Mid\": \"#fd8d3c\",\n",
    "                \"High\": \"#e31a1c\"},\n",
    "              size='total_cases_capita', hover_data=['state'], #facet_col='total_cases_cat',log_x=True,\n",
    "                   labels={\n",
    "                     \"total_cases_capita\": \"Infections Per Capita\",\n",
    "                     \"median_age\": \"Median Age\",\n",
    "                     \"total_cases_cat\": \"Infection Category\"  \n",
    "                 },\n",
    "                   title = \"Median Age Vs Infection Per Capita\")\n",
    "fig.update_layout(\n",
    "    font_family=\"Times New Roman\",\n",
    "    font_color=\"black\",\n",
    "    title_font_family=\"Times New Roman\",\n",
    "    title_font_color=\"black\",\n",
    "\n",
    ")\n",
    "fig.show()\n",
    "fig.write_html(r\"C:\\Users\\basuc\\5005p\\figs\\median age2.html\")"
   ]
  },
  {
   "cell_type": "code",
   "execution_count": null,
   "metadata": {},
   "outputs": [],
   "source": [
    "import plotly.express as px\n",
    "#df = px.data.iris()\n",
    "fig = px.scatter(multivariate, x=\"total_cases_capita\", y=\"median_age\", color=\"total_cases_cat\",\n",
    "color_discrete_map={\n",
    "                \"Low\": \"#fecc5c\",\n",
    "                \"Mid\": \"#fd8d3c\",\n",
    "                \"High\": \"#e31a1c\"},\n",
    "              size='total_cases_capita', hover_data=['state'], facet_col='total_cases_cat',log_x=True,\n",
    "                   labels={\n",
    "                     \"total_cases_capita\": \"Infections Per Capita\",\n",
    "                     \"median_age\": \"Median Age\",\n",
    "                     \"total_cases_cat\": \"Infection Category\"  \n",
    "                 },\n",
    "                   title = \"Median Age Vs Infection Per Capita\")\n",
    "fig.update_layout(\n",
    "    font_family=\"Times New Roman\",\n",
    "    font_color=\"black\",\n",
    "    title_font_family=\"Times New Roman\",\n",
    "    title_font_color=\"black\",\n",
    "\n",
    ")\n",
    "fig.show()\n",
    "fig.write_html(r\"C:\\Users\\basuc\\5005p\\figs\\median age1.html\")"
   ]
  },
  {
   "cell_type": "code",
   "execution_count": null,
   "metadata": {},
   "outputs": [],
   "source": [
    "import plotly.express as px\n",
    "#df = px.data.iris()\n",
    "fig = px.scatter(multivariate, x=\"total_cases_capita\", y=\"health_index\", color=\"total_cases_cat\",\n",
    "color_discrete_map={\n",
    "                \"Low\": \"#fecc5c\",\n",
    "                \"Mid\": \"#fd8d3c\",\n",
    "                \"High\": \"#e31a1c\"},\n",
    "              size='total_cases_capita', hover_data=['state'], facet_col='total_cases_cat',log_x=True,\n",
    "                   labels={\n",
    "                     \"total_cases_capita\": \"Infections Per Capita\",\n",
    "                     \"health_index\": \"Health Index\",\n",
    "                     \"total_cases_cat\": \"Infection Category\"  \n",
    "                 },\n",
    "                   title = \"Health Index Vs Infection Per Capita\")\n",
    "fig.update_layout(\n",
    "    font_family=\"Times New Roman\",\n",
    "    font_color=\"black\",\n",
    "    title_font_family=\"Times New Roman\",\n",
    "    title_font_color=\"black\",\n",
    "\n",
    ")\n",
    "fig.show()\n",
    "fig.write_html(r\"C:\\Users\\basuc\\5005p\\figs\\health index1.html\")"
   ]
  },
  {
   "cell_type": "code",
   "execution_count": null,
   "metadata": {},
   "outputs": [],
   "source": [
    "import plotly.express as px\n",
    "#df = px.data.iris()\n",
    "fig = px.scatter(multivariate, x=\"total_cases_capita\", y=\"health_index\", color=\"total_cases_cat\",\n",
    "color_discrete_map={\n",
    "                \"Low\": \"#fecc5c\",\n",
    "                \"Mid\": \"#fd8d3c\",\n",
    "                \"High\": \"#e31a1c\"},\n",
    "              size='total_cases_capita', hover_data=['state'], #facet_col='total_cases_cat',log_x=True,\n",
    "                   labels={\n",
    "                     \"total_cases_capita\": \"Infections Per Capita\",\n",
    "                     \"health_index\": \"Health Index\",\n",
    "                     \"total_cases_cat\": \"Infection Category\"  \n",
    "                 },\n",
    "                   title = \"Health Index Vs Infection Per Capita\")\n",
    "fig.update_layout(\n",
    "    font_family=\"Times New Roman\",\n",
    "    font_color=\"black\",\n",
    "    title_font_family=\"Times New Roman\",\n",
    "    title_font_color=\"black\",\n",
    "\n",
    ")\n",
    "fig.show()\n",
    "fig.write_html(r\"C:\\Users\\basuc\\5005p\\figs\\health index2.html\")"
   ]
  },
  {
   "cell_type": "code",
   "execution_count": null,
   "metadata": {},
   "outputs": [],
   "source": [
    "import plotly.express as px\n",
    "#df = px.data.iris()\n",
    "fig = px.scatter(multivariate, x=\"urban_pop_share\", y=\"2018HDI\", color=\"total_cases_cat\",\n",
    "                 color_discrete_map={\n",
    "                \"Low\": \"#fecc5c\",\n",
    "                \"Mid\": \"#fd8d3c\",\n",
    "                \"High\": \"#e31a1c\"},\n",
    "                 size='total_cases_capita', hover_data=['state'],\n",
    "                 #, facet_col='total_cases_cat',log_x=True\n",
    "                 labels={\n",
    "                     \"urban_pop_share\": \"Urban Population Share\",\n",
    "                     \"2018HDI\": \"Human Development Index\",\n",
    "                     \"total_cases_cat\": \"Infection Category\"  \n",
    "                 },\n",
    "                   title = \"Quadrant Analysis on Infection/Capita\"\n",
    "                )\n",
    "fig.add_hline(y=0.69,line_width=0.5, line_dash=\"dash\",)\n",
    "fig.add_vline(x=40,line_width=0.5, line_dash=\"dash\",)\n",
    "fig.show()\n",
    "fig.write_html(r\"C:\\Users\\basuc\\5005p\\figs\\quadrant_analysis.html\")"
   ]
  },
  {
   "cell_type": "code",
   "execution_count": null,
   "metadata": {},
   "outputs": [],
   "source": [
    "multivariate['cat'] = multivariate['total_cases_cat']#.factorize()[0]\n",
    "#multivariate['cat'] = multivariate['cat'] +1"
   ]
  },
  {
   "cell_type": "code",
   "execution_count": null,
   "metadata": {},
   "outputs": [],
   "source": [
    "parallel_coordinate = multivariate.drop(columns=['statecode','density_per_km2','lit_rate','gdp_capita','total_cases_cat'])"
   ]
  },
  {
   "cell_type": "code",
   "execution_count": null,
   "metadata": {},
   "outputs": [],
   "source": [
    "parallel_coordinate.head()"
   ]
  },
  {
   "cell_type": "code",
   "execution_count": null,
   "metadata": {},
   "outputs": [],
   "source": [
    "cols = parallel_coordinate.columns.tolist()"
   ]
  },
  {
   "cell_type": "code",
   "execution_count": null,
   "metadata": {},
   "outputs": [],
   "source": [
    "#cols =['health_index','median_age','2018HDI','urban_pop_share','total_cases_capita','total_cases_cat','state']"
   ]
  },
  {
   "cell_type": "code",
   "execution_count": null,
   "metadata": {},
   "outputs": [],
   "source": [
    "cols"
   ]
  },
  {
   "cell_type": "code",
   "execution_count": null,
   "metadata": {},
   "outputs": [],
   "source": [
    "parallel_coordinate=parallel_coordinate[cols]"
   ]
  },
  {
   "cell_type": "code",
   "execution_count": null,
   "metadata": {},
   "outputs": [],
   "source": [
    "parallel_coordinate=parallel_coordinate.sort_values(by='total_cases_capita', ascending=False)"
   ]
  },
  {
   "cell_type": "code",
   "execution_count": null,
   "metadata": {},
   "outputs": [],
   "source": [
    "parallel_coordinate"
   ]
  },
  {
   "cell_type": "code",
   "execution_count": null,
   "metadata": {},
   "outputs": [],
   "source": [
    "parallel_coordinate['cat']=parallel_coordinate['cat'].factorize()[0]+1"
   ]
  },
  {
   "cell_type": "code",
   "execution_count": null,
   "metadata": {},
   "outputs": [],
   "source": [
    "#parallel_coordinate = parallel_coordinate.drop(columns =['total_cases_capita'])"
   ]
  },
  {
   "cell_type": "code",
   "execution_count": null,
   "metadata": {},
   "outputs": [],
   "source": [
    "cols = [\n",
    " 'state',\n",
    " 'health_index',\n",
    " 'median_age',\n",
    "'2018HDI',\n",
    "'urban_pop_share',\n",
    "    'total_cases_capita',\n",
    " 'cat']"
   ]
  },
  {
   "cell_type": "code",
   "execution_count": null,
   "metadata": {},
   "outputs": [],
   "source": [
    "parallel_coordinate=parallel_coordinate[cols]"
   ]
  },
  {
   "cell_type": "code",
   "execution_count": null,
   "metadata": {},
   "outputs": [],
   "source": [
    "import plotly.express as px\n",
    "\n",
    "fig = px.parallel_coordinates(parallel_coordinate, \n",
    "                              color='cat', \n",
    "                              labels={\"total_cases_capita\" :\"Total Cases / Capita\",\n",
    "                \"urban_pop_share\": \"Urban Population%\", \"2018HDI\": \"Human Development Index\",\"median_age\":\"Median Age\",\n",
    "                \"health_index\": \"Health Index\"},\n",
    "                             \n",
    "                             color_continuous_scale=px.colors.diverging.Tealrose_r,\n",
    "                             color_continuous_midpoint=2\n",
    "                             )\n",
    "fig.show()\n",
    "#fig.write_html(\"path/to/file.html\")\n",
    "fig.write_html(r\"C:\\Users\\basuc\\5005p\\figs\\parallel_cordinate.html\")"
   ]
  },
  {
   "cell_type": "code",
   "execution_count": null,
   "metadata": {},
   "outputs": [],
   "source": [
    "parallel_coordinate"
   ]
  },
  {
   "cell_type": "code",
   "execution_count": null,
   "metadata": {},
   "outputs": [],
   "source": [
    "vbm = pd.read_csv('state_total_vbm.csv')"
   ]
  },
  {
   "cell_type": "code",
   "execution_count": null,
   "metadata": {},
   "outputs": [],
   "source": [
    "multivariate"
   ]
  },
  {
   "cell_type": "code",
   "execution_count": null,
   "metadata": {},
   "outputs": [],
   "source": [
    "multivariate = multivariate .merge(vbm, how='left', on='statecode')"
   ]
  },
  {
   "cell_type": "code",
   "execution_count": null,
   "metadata": {},
   "outputs": [],
   "source": [
    "multivariate"
   ]
  },
  {
   "cell_type": "code",
   "execution_count": null,
   "metadata": {},
   "outputs": [],
   "source": [
    "multivariate = multivariate.rename(columns={\"capacity\": \"total_vbm\"}, errors=\"raise\")"
   ]
  },
  {
   "cell_type": "code",
   "execution_count": null,
   "metadata": {},
   "outputs": [],
   "source": [
    "multivariate= multivariate[multivariate['total_vbm'].notna()]"
   ]
  },
  {
   "cell_type": "code",
   "execution_count": null,
   "metadata": {},
   "outputs": [],
   "source": [
    "import plotly.express as px\n",
    "fig = px.scatter(multivariate, x=\"total_cases_capita\", y=\"total_vbm\", color=\"total_cases_cat\",\n",
    "                 color_discrete_map={\n",
    "                \"Low\": \"#fecc5c\",\n",
    "                \"Mid\": \"#fd8d3c\",\n",
    "                \"High\": \"#e31a1c\"},\n",
    "                 size='total_cases_capita', hover_data=['statecode'], facet_col='total_cases_cat',log_x=True,\n",
    "                labels={\n",
    "                     \"total_cases_capita\": \"Infections Per Capita\",\n",
    "                     \"total_vbm\": \"Total International Arrivals\",\n",
    "                     \"total_cases_cat\": \"Infection Category\"  \n",
    "                 },\n",
    "                   title = \"Total International Arrivals Vs Infection Per Capita\")\n",
    "fig.update_layout(\n",
    "    font_family=\"Times New Roman\",\n",
    "    font_color=\"black\",\n",
    "    title_font_family=\"Times New Roman\",\n",
    "    title_font_color=\"black\",\n",
    "\n",
    ")\n",
    "fig.show()\n",
    "fig.write_html(r\"C:\\Users\\basuc\\5005p\\figs\\international arrival3.html\")"
   ]
  },
  {
   "cell_type": "code",
   "execution_count": null,
   "metadata": {},
   "outputs": [],
   "source": []
  }
 ],
 "metadata": {
  "kernelspec": {
   "display_name": "Python 3",
   "language": "python",
   "name": "python3"
  },
  "language_info": {
   "codemirror_mode": {
    "name": "ipython",
    "version": 3
   },
   "file_extension": ".py",
   "mimetype": "text/x-python",
   "name": "python",
   "nbconvert_exporter": "python",
   "pygments_lexer": "ipython3",
   "version": "3.8.5"
  }
 },
 "nbformat": 4,
 "nbformat_minor": 4
}
