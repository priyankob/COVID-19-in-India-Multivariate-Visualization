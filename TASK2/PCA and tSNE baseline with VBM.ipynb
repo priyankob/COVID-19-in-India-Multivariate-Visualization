{
 "cells": [
  {
   "cell_type": "code",
   "execution_count": null,
   "metadata": {},
   "outputs": [],
   "source": [
    "import os\n",
    "from os import listdir, system\n",
    "import numpy as np\n",
    "import pandas as pd\n",
    "import seaborn as sns\n",
    "from matplotlib import pyplot as plt\n",
    "%matplotlib inline"
   ]
  },
  {
   "cell_type": "code",
   "execution_count": null,
   "metadata": {},
   "outputs": [],
   "source": [
    "os.getcwd()"
   ]
  },
  {
   "cell_type": "code",
   "execution_count": null,
   "metadata": {},
   "outputs": [],
   "source": [
    "os.chdir('C:\\\\Users\\\\basuc\\\\5005p')"
   ]
  },
  {
   "cell_type": "code",
   "execution_count": null,
   "metadata": {},
   "outputs": [],
   "source": [
    "data = pd.read_csv('multivariate.csv')\n",
    "median_age = pd.read_csv('median_age.csv')\n",
    "auto_cat=pd.read_csv('april_case_class.csv')\n",
    "#auto_cat=pd.read_csv('total_case_class.csv')"
   ]
  },
  {
   "cell_type": "code",
   "execution_count": null,
   "metadata": {},
   "outputs": [],
   "source": [
    "auto_cat.head()"
   ]
  },
  {
   "cell_type": "code",
   "execution_count": null,
   "metadata": {},
   "outputs": [],
   "source": [
    "data.head()"
   ]
  },
  {
   "cell_type": "code",
   "execution_count": null,
   "metadata": {},
   "outputs": [],
   "source": [
    "data = data.merge(median_age, how = 'left', on='statecode')\n",
    "data = data.drop(columns = ['total_cases_capita','total_cases_cat','total_covid_cases','april_covid_cases','total_covid_cases','population.1'])\n"
   ]
  },
  {
   "cell_type": "code",
   "execution_count": null,
   "metadata": {},
   "outputs": [],
   "source": [
    "data.head()"
   ]
  },
  {
   "cell_type": "code",
   "execution_count": null,
   "metadata": {},
   "outputs": [],
   "source": [
    "data = data.merge(auto_cat, how = 'left', on='statecode')\n",
    "data = data.rename({'cat':'total_cases_cat'}, axis=1)\n",
    "data=data.sort_values(by='april_cases_capita', ascending=True)\n",
    "data = data.drop(columns = ['pdf'])"
   ]
  },
  {
   "cell_type": "code",
   "execution_count": null,
   "metadata": {},
   "outputs": [],
   "source": [
    "data"
   ]
  },
  {
   "cell_type": "code",
   "execution_count": null,
   "metadata": {},
   "outputs": [],
   "source": [
    "vbm = pd.read_csv('state_total_vbm.csv')"
   ]
  },
  {
   "cell_type": "code",
   "execution_count": null,
   "metadata": {},
   "outputs": [],
   "source": [
    "vbm"
   ]
  },
  {
   "cell_type": "code",
   "execution_count": null,
   "metadata": {},
   "outputs": [],
   "source": [
    "vbm_hotspot = pd.read_csv('vbm_uk_total.csv')"
   ]
  },
  {
   "cell_type": "code",
   "execution_count": null,
   "metadata": {},
   "outputs": [],
   "source": [
    "data = data.merge(vbm, how='left', on='statecode')\n",
    "data = data.merge(vbm_hotspot, how='left', on='statecode')"
   ]
  },
  {
   "cell_type": "code",
   "execution_count": null,
   "metadata": {},
   "outputs": [],
   "source": [
    "data = data.rename(columns={\"capacity_x\": \"total_vbm\", \"capacity_y\": \"total_hotspot\"}, errors=\"raise\")"
   ]
  },
  {
   "cell_type": "code",
   "execution_count": null,
   "metadata": {},
   "outputs": [],
   "source": [
    "data= data[data['total_vbm'].notna()]"
   ]
  },
  {
   "cell_type": "code",
   "execution_count": null,
   "metadata": {},
   "outputs": [],
   "source": [
    "data"
   ]
  },
  {
   "cell_type": "code",
   "execution_count": null,
   "metadata": {},
   "outputs": [],
   "source": [
    "data = data.fillna(0)"
   ]
  },
  {
   "cell_type": "code",
   "execution_count": null,
   "metadata": {},
   "outputs": [],
   "source": [
    "data"
   ]
  },
  {
   "cell_type": "code",
   "execution_count": null,
   "metadata": {},
   "outputs": [],
   "source": [
    "data['total_vbm'] = data['total_vbm']/data['total_vbm'].max()\n",
    "data['total_hotspot'] = data['total_hotspot']/data['total_hotspot'].max()"
   ]
  },
  {
   "cell_type": "code",
   "execution_count": null,
   "metadata": {},
   "outputs": [],
   "source": [
    "data=data.sort_values(by='april_cases_capita', ascending=True)"
   ]
  },
  {
   "cell_type": "code",
   "execution_count": null,
   "metadata": {},
   "outputs": [],
   "source": [
    "data=data.reset_index(drop=True)"
   ]
  },
  {
   "cell_type": "code",
   "execution_count": null,
   "metadata": {},
   "outputs": [],
   "source": [
    "multivariate = data"
   ]
  },
  {
   "cell_type": "code",
   "execution_count": null,
   "metadata": {},
   "outputs": [],
   "source": [
    "multivariate"
   ]
  },
  {
   "cell_type": "code",
   "execution_count": null,
   "metadata": {},
   "outputs": [],
   "source": [
    "data = data.drop(columns = ['population','density_per_km2','lit_rate','gdp_capita','state'])"
   ]
  },
  {
   "cell_type": "code",
   "execution_count": null,
   "metadata": {},
   "outputs": [],
   "source": [
    "statecode = data['statecode']\n",
    "data = data.drop('statecode', axis=1)\n",
    "total_cases_capita = data['april_cases_capita']\n",
    "data = data.drop('april_cases_capita', axis=1)"
   ]
  },
  {
   "cell_type": "code",
   "execution_count": null,
   "metadata": {},
   "outputs": [],
   "source": [
    "data"
   ]
  },
  {
   "cell_type": "code",
   "execution_count": null,
   "metadata": {},
   "outputs": [],
   "source": [
    "target = data['total_cases_cat']\n",
    "data = data.drop('total_cases_cat', axis=1)"
   ]
  },
  {
   "cell_type": "code",
   "execution_count": null,
   "metadata": {},
   "outputs": [],
   "source": [
    "data"
   ]
  },
  {
   "cell_type": "code",
   "execution_count": null,
   "metadata": {},
   "outputs": [],
   "source": [
    "from sklearn.decomposition import PCA # Principal Component Analysis module\n",
    "from sklearn.manifold import TSNE # TSNE module"
   ]
  },
  {
   "cell_type": "code",
   "execution_count": null,
   "metadata": {},
   "outputs": [],
   "source": [
    "from sklearn.preprocessing import MinMaxScaler\n",
    "from sklearn.preprocessing import StandardScaler\n",
    "# minmaxscaler = MinMaxScaler()\n",
    "# data_rescaled = minmaxscaler.fit_transform(data)\n",
    "stdscaler = StandardScaler()\n",
    "data_rescaled = stdscaler.fit_transform(data)"
   ]
  },
  {
   "cell_type": "code",
   "execution_count": null,
   "metadata": {},
   "outputs": [],
   "source": [
    "data_rescaled"
   ]
  },
  {
   "cell_type": "code",
   "execution_count": null,
   "metadata": {},
   "outputs": [],
   "source": [
    "#95% of variance\n",
    "# from sklearn.decomposition import PCA\n",
    "# pca = PCA(n_components = 2)\n",
    "# pca.fit(data_rescaled)\n",
    "# reduced = pca.transform(data_rescaled)"
   ]
  },
  {
   "cell_type": "code",
   "execution_count": null,
   "metadata": {},
   "outputs": [],
   "source": [
    "#95% of variance\n",
    "from sklearn.decomposition import PCA\n",
    "pca = PCA().fit(data_rescaled)\n",
    "\n",
    "%matplotlib inline\n",
    "import matplotlib.pyplot as plt\n",
    "plt.rcParams[\"figure.figsize\"] = (12,6)\n",
    "\n",
    "fig, ax = plt.subplots()\n",
    "xi = np.arange(1,8, step=1)\n",
    "y = np.cumsum(pca.explained_variance_ratio_)\n",
    "\n",
    "plt.ylim(0.0,1.1)\n",
    "plt.plot(xi, y, marker='o', linestyle='--', color='b')\n",
    "\n",
    "plt.xlabel('Number of Components')\n",
    "plt.xticks(np.arange(0, 8, step=1)) #change from 0-based array index to 1-based human-readable label\n",
    "plt.ylabel('Cumulative variance (%)')\n",
    "plt.title('The number of components needed to explain variance')\n",
    "\n",
    "plt.axhline(y=0.85, color='r', linestyle='-')\n",
    "plt.text(0.5, 0.75, '85% cut-off threshold', color = 'red', fontsize=16)\n",
    "\n",
    "ax.grid(axis='x')\n",
    "plt.show()"
   ]
  },
  {
   "cell_type": "code",
   "execution_count": null,
   "metadata": {},
   "outputs": [],
   "source": [
    "# Invoke the PCA method on the standardised data\n",
    "pca = PCA(n_components=2)\n",
    "pca_3d_std = pca.fit_transform(data_rescaled)\n",
    "pca.explained_variance_ratio_"
   ]
  },
  {
   "cell_type": "code",
   "execution_count": null,
   "metadata": {},
   "outputs": [],
   "source": [
    "print(abs( pca.components_ ))"
   ]
  },
  {
   "cell_type": "code",
   "execution_count": null,
   "metadata": {},
   "outputs": [],
   "source": [
    "# Invoke the TSNE method\n",
    "tsne = TSNE(n_components=2, verbose=5, perplexity=3, method= 'exact', n_iter=30000, init='pca')\n",
    "tsne_results_std = tsne.fit_transform(data_rescaled)"
   ]
  },
  {
   "cell_type": "code",
   "execution_count": null,
   "metadata": {},
   "outputs": [],
   "source": [
    "tsne_results_std"
   ]
  },
  {
   "cell_type": "code",
   "execution_count": null,
   "metadata": {},
   "outputs": [],
   "source": [
    "pca1=pca_3d_std[:,0]\n",
    "pca2=pca_3d_std[:,1]\n",
    "# pca3=pca_3d_std[:,2]\n",
    "tsne1 = tsne_results_std[:,0]\n",
    "tsne2 = tsne_results_std[:,1]\n",
    "# tsne3 = tsne_results_std[:,2]"
   ]
  },
  {
   "cell_type": "code",
   "execution_count": null,
   "metadata": {},
   "outputs": [],
   "source": [
    "pca1_df = pd.DataFrame(pca1, columns = ['pca1'])\n",
    "pca2_df = pd.DataFrame(pca2, columns = ['pca2'])\n",
    "# pca3_df = pd.DataFrame(pca3, columns = ['pca3'])\n",
    "tsne1_df = pd.DataFrame(tsne1, columns = ['tsne1'])\n",
    "tsne2_df = pd.DataFrame(tsne2, columns = ['tsne2'])\n",
    "# tsne3_df = pd.DataFrame(tsne3, columns = ['tsne3'])"
   ]
  },
  {
   "cell_type": "code",
   "execution_count": null,
   "metadata": {},
   "outputs": [],
   "source": [
    "result = pd.concat([multivariate, pca1_df], axis=1, join=\"inner\")\n",
    "result = pd.concat([result, pca2_df], axis=1, join=\"inner\")\n",
    "# result = pd.concat([result, pca3_df], axis=1, join=\"inner\")\n",
    "result = pd.concat([result, tsne1_df], axis=1, join=\"inner\")\n",
    "result = pd.concat([result, tsne2_df], axis=1, join=\"inner\")\n",
    "# result = pd.concat([result, tsne3_df], axis=1, join=\"inner\")"
   ]
  },
  {
   "cell_type": "code",
   "execution_count": null,
   "metadata": {},
   "outputs": [],
   "source": [
    "result"
   ]
  },
  {
   "cell_type": "code",
   "execution_count": null,
   "metadata": {},
   "outputs": [],
   "source": [
    "from plotly.subplots import make_subplots\n",
    "import plotly.express as px\n",
    "import plotly.graph_objects as go"
   ]
  },
  {
   "cell_type": "code",
   "execution_count": null,
   "metadata": {},
   "outputs": [],
   "source": [
    "# import plotly.express as px\n",
    "# fig = px.scatter_3d(result, x=\"pca1\", y=\"pca2\", z='pca3', color=\"total_cases_cat\", \n",
    "#                     color_discrete_map={\n",
    "#                 \"Low\": \"#fecc5c\",\n",
    "#                 \"Mid\": \"#fd8d3c\",\n",
    "#                 \"High\": \"#e31a1c\"},\n",
    "#               size='april_cases_capita', hover_data=['state'] )\n",
    "# fig.show()"
   ]
  },
  {
   "cell_type": "code",
   "execution_count": null,
   "metadata": {},
   "outputs": [],
   "source": [
    "# import plotly.express as px\n",
    "# fig = px.scatter_3d(result, x=\"tsne1\", y=\"tsne2\", z='tsne3', color=\"total_cases_cat\", \n",
    "#                     color_discrete_map={\n",
    "#                 \"Low\": \"#fecc5c\",\n",
    "#                 \"Mid\": \"#fd8d3c\",\n",
    "#                 \"High\": \"#e31a1c\"},\n",
    "#               size='april_cases_capita', hover_data=['state'] )\n",
    "# fig.show()"
   ]
  },
  {
   "cell_type": "code",
   "execution_count": null,
   "metadata": {},
   "outputs": [],
   "source": [
    "import plotly.express as px\n",
    "fig = px.scatter(result, x=\"pca1\", y=\"pca2\",  color=\"total_cases_cat\", \n",
    "                 color_discrete_map={\n",
    "                \"Low\": \"#fecc5c\",\n",
    "                \"Mid\": \"#fd8d3c\",\n",
    "                \"High\": \"#e31a1c\"},\n",
    "              size='april_cases_capita', hover_data=['state'] )\n",
    "fig.show()"
   ]
  },
  {
   "cell_type": "code",
   "execution_count": null,
   "metadata": {},
   "outputs": [],
   "source": [
    "import plotly.express as px\n",
    "#df = px.data.iris()\n",
    "fig = px.scatter(multivariate, x=\"april_cases_capita\", y=\"urban_pop_share\", color=\"total_cases_cat\",\n",
    "                 color_discrete_map={\n",
    "                \"Low\": \"#fecc5c\",\n",
    "                \"Mid\": \"#fd8d3c\",\n",
    "                \"High\": \"#e31a1c\"},\n",
    "                 size='april_cases_capita', hover_data=['state'], facet_col='total_cases_cat',log_x=True)\n",
    "fig.show()"
   ]
  },
  {
   "cell_type": "code",
   "execution_count": null,
   "metadata": {},
   "outputs": [],
   "source": [
    "import plotly.express as px\n",
    "fig = px.scatter(multivariate, x=\"april_cases_capita\", y=\"2018HDI\", color=\"total_cases_cat\",\n",
    "                 color_discrete_map={\n",
    "                \"Low\": \"#fecc5c\",\n",
    "                \"Mid\": \"#fd8d3c\",\n",
    "                \"High\": \"#e31a1c\"},\n",
    "                 size='april_cases_capita', hover_data=['statecode'], facet_col='total_cases_cat',log_x=True)\n",
    "fig.show()"
   ]
  },
  {
   "cell_type": "code",
   "execution_count": null,
   "metadata": {},
   "outputs": [],
   "source": [
    "# multivariate['total_vbm'] = (multivariate['total_vbm']-multivariate['total_vbm'].min())/(multivariate['total_vbm'].max()-multivariate['total_vbm'].min())"
   ]
  },
  {
   "cell_type": "code",
   "execution_count": null,
   "metadata": {},
   "outputs": [],
   "source": [
    "# multivariate['total_vbm'] = (multivariate['total_hotspot']-multivariate['total_hotspot'].min())/(multivariate['total_hotspot'].max()-multivariate['total_hotspot'].min())"
   ]
  },
  {
   "cell_type": "code",
   "execution_count": null,
   "metadata": {},
   "outputs": [],
   "source": [
    "# multivariate = multivariate.drop(multivariate[multivariate.statecode=='DL'].index)"
   ]
  },
  {
   "cell_type": "code",
   "execution_count": null,
   "metadata": {},
   "outputs": [],
   "source": [
    "# multivariate = multivariate.drop(multivariate[multivariate.statecode=='MH'].index)"
   ]
  },
  {
   "cell_type": "code",
   "execution_count": null,
   "metadata": {},
   "outputs": [],
   "source": [
    "# multivariate = multivariate.drop(multivariate[multivariate.statecode=='KA'].index)"
   ]
  },
  {
   "cell_type": "code",
   "execution_count": null,
   "metadata": {},
   "outputs": [],
   "source": [
    "multivariate"
   ]
  },
  {
   "cell_type": "code",
   "execution_count": null,
   "metadata": {},
   "outputs": [],
   "source": [
    "import plotly.express as px\n",
    "fig = px.scatter(multivariate, x=\"april_cases_capita\", y=\"total_vbm\", color=\"total_cases_cat\",\n",
    "                 color_discrete_map={\n",
    "                \"Low\": \"#fecc5c\",\n",
    "                \"Mid\": \"#fd8d3c\",\n",
    "                \"High\": \"#e31a1c\"},\n",
    "                 size='april_cases_capita', hover_data=['statecode'], facet_col='total_cases_cat',log_x=True,\n",
    "                labels={\n",
    "                     \"april_cases_capita\": \"Infections Per Capita(Apr-21)\",\n",
    "                     \"total_vbm\": \"Total International Arrivals\",\n",
    "                     \"total_cases_cat\": \"Infection Category\"  \n",
    "                 },\n",
    "                   title = \"Total International Arrivals Vs Infection Per Capita Apr-21\")\n",
    "fig.update_layout(\n",
    "    font_family=\"Times New Roman\",\n",
    "    font_color=\"black\",\n",
    "    title_font_family=\"Times New Roman\",\n",
    "    title_font_color=\"black\",\n",
    "\n",
    ")\n",
    "fig.show()\n",
    "fig.write_html(r\"C:\\Users\\basuc\\5005p\\figs\\international arrival2.html\")"
   ]
  },
  {
   "cell_type": "code",
   "execution_count": null,
   "metadata": {},
   "outputs": [],
   "source": [
    "import plotly.express as px\n",
    "fig = px.scatter(multivariate, x=\"april_cases_capita\", y=\"total_hotspot\", color=\"total_cases_cat\",\n",
    "                 color_discrete_map={\n",
    "                \"Low\": \"#fecc5c\",\n",
    "                \"Mid\": \"#fd8d3c\",\n",
    "                \"High\": \"#e31a1c\"},\n",
    "                 size='april_cases_capita', hover_data=['statecode'], facet_col='total_cases_cat',log_x=True)\n",
    "fig.show()"
   ]
  },
  {
   "cell_type": "code",
   "execution_count": null,
   "metadata": {},
   "outputs": [],
   "source": [
    "import plotly.express as px\n",
    "#df = px.data.iris()\n",
    "fig = px.scatter(multivariate, x=\"urban_pop_share\", y=\"total_hotspot\", color=\"total_cases_cat\",\n",
    "                 color_discrete_map={\n",
    "                \"Low\": \"#fecc5c\",\n",
    "                \"Mid\": \"#fd8d3c\",\n",
    "                \"High\": \"#e31a1c\"},\n",
    "                 size='april_cases_capita', hover_data=['state']\n",
    "                 #, facet_col='total_cases_cat',log_x=True\n",
    "                )\n",
    "fig.add_hline(y=0.2,line_width=0.5, line_dash=\"dash\",)\n",
    "fig.add_vline(x=40,line_width=0.5, line_dash=\"dash\",)\n",
    "fig.show()"
   ]
  },
  {
   "cell_type": "code",
   "execution_count": null,
   "metadata": {},
   "outputs": [],
   "source": []
  }
 ],
 "metadata": {
  "kernelspec": {
   "display_name": "Python 3",
   "language": "python",
   "name": "python3"
  },
  "language_info": {
   "codemirror_mode": {
    "name": "ipython",
    "version": 3
   },
   "file_extension": ".py",
   "mimetype": "text/x-python",
   "name": "python",
   "nbconvert_exporter": "python",
   "pygments_lexer": "ipython3",
   "version": "3.8.5"
  }
 },
 "nbformat": 4,
 "nbformat_minor": 4
}
